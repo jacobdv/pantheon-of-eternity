{
 "cells": [
  {
   "cell_type": "code",
   "execution_count": 1,
   "metadata": {},
   "outputs": [],
   "source": [
    "import pandas as pd\n",
    "import numpy as np\n",
    "import datetime as dt\n",
    "import matplotlib.pyplot as plt"
   ]
  },
  {
   "cell_type": "code",
   "execution_count": 34,
   "metadata": {},
   "outputs": [],
   "source": [
    "data = pd.read_csv('../compiledData.csv').drop(columns=['Unnamed: 0', 'Date'])\n",
    "data = data.rename(columns={'Good_time_to_Buy': \"Good_TTB\", 'Uncertain': \"Uncertain_TTB\", \"Bad_time_to_Buy\": 'Bad_TTB'})"
   ]
  },
  {
   "cell_type": "code",
   "execution_count": 35,
   "metadata": {},
   "outputs": [
    {
     "data": {
      "text/html": [
       "<div>\n",
       "<style scoped>\n",
       "    .dataframe tbody tr th:only-of-type {\n",
       "        vertical-align: middle;\n",
       "    }\n",
       "\n",
       "    .dataframe tbody tr th {\n",
       "        vertical-align: top;\n",
       "    }\n",
       "\n",
       "    .dataframe thead th {\n",
       "        text-align: right;\n",
       "    }\n",
       "</style>\n",
       "<table border=\"1\" class=\"dataframe\">\n",
       "  <thead>\n",
       "    <tr style=\"text-align: right;\">\n",
       "      <th></th>\n",
       "      <th>Symbol</th>\n",
       "      <th>Year</th>\n",
       "      <th>Month</th>\n",
       "      <th>Day</th>\n",
       "      <th>Open</th>\n",
       "      <th>High</th>\n",
       "      <th>Low</th>\n",
       "      <th>Close</th>\n",
       "      <th>Volume</th>\n",
       "      <th>Good_TTB</th>\n",
       "      <th>Uncertain_TTB</th>\n",
       "      <th>Bad_TTB</th>\n",
       "      <th>Relative</th>\n",
       "    </tr>\n",
       "  </thead>\n",
       "  <tbody>\n",
       "    <tr>\n",
       "      <th>0</th>\n",
       "      <td>TM</td>\n",
       "      <td>2015</td>\n",
       "      <td>1</td>\n",
       "      <td>2</td>\n",
       "      <td>119.620</td>\n",
       "      <td>120.010</td>\n",
       "      <td>118.340</td>\n",
       "      <td>119.080</td>\n",
       "      <td>263779</td>\n",
       "      <td>74.0</td>\n",
       "      <td>3.0</td>\n",
       "      <td>23.0</td>\n",
       "      <td>151.0</td>\n",
       "    </tr>\n",
       "    <tr>\n",
       "      <th>1</th>\n",
       "      <td>TM</td>\n",
       "      <td>2015</td>\n",
       "      <td>1</td>\n",
       "      <td>5</td>\n",
       "      <td>117.930</td>\n",
       "      <td>118.090</td>\n",
       "      <td>116.600</td>\n",
       "      <td>116.910</td>\n",
       "      <td>253842</td>\n",
       "      <td>74.0</td>\n",
       "      <td>3.0</td>\n",
       "      <td>23.0</td>\n",
       "      <td>151.0</td>\n",
       "    </tr>\n",
       "    <tr>\n",
       "      <th>2</th>\n",
       "      <td>TM</td>\n",
       "      <td>2015</td>\n",
       "      <td>1</td>\n",
       "      <td>6</td>\n",
       "      <td>116.940</td>\n",
       "      <td>117.250</td>\n",
       "      <td>114.870</td>\n",
       "      <td>115.710</td>\n",
       "      <td>301389</td>\n",
       "      <td>74.0</td>\n",
       "      <td>3.0</td>\n",
       "      <td>23.0</td>\n",
       "      <td>151.0</td>\n",
       "    </tr>\n",
       "    <tr>\n",
       "      <th>3</th>\n",
       "      <td>TM</td>\n",
       "      <td>2015</td>\n",
       "      <td>1</td>\n",
       "      <td>7</td>\n",
       "      <td>118.940</td>\n",
       "      <td>119.470</td>\n",
       "      <td>118.510</td>\n",
       "      <td>118.620</td>\n",
       "      <td>407050</td>\n",
       "      <td>74.0</td>\n",
       "      <td>3.0</td>\n",
       "      <td>23.0</td>\n",
       "      <td>151.0</td>\n",
       "    </tr>\n",
       "    <tr>\n",
       "      <th>4</th>\n",
       "      <td>TM</td>\n",
       "      <td>2015</td>\n",
       "      <td>1</td>\n",
       "      <td>8</td>\n",
       "      <td>119.820</td>\n",
       "      <td>121.020</td>\n",
       "      <td>119.820</td>\n",
       "      <td>120.900</td>\n",
       "      <td>526309</td>\n",
       "      <td>74.0</td>\n",
       "      <td>3.0</td>\n",
       "      <td>23.0</td>\n",
       "      <td>151.0</td>\n",
       "    </tr>\n",
       "    <tr>\n",
       "      <th>...</th>\n",
       "      <td>...</td>\n",
       "      <td>...</td>\n",
       "      <td>...</td>\n",
       "      <td>...</td>\n",
       "      <td>...</td>\n",
       "      <td>...</td>\n",
       "      <td>...</td>\n",
       "      <td>...</td>\n",
       "      <td>...</td>\n",
       "      <td>...</td>\n",
       "      <td>...</td>\n",
       "      <td>...</td>\n",
       "      <td>...</td>\n",
       "    </tr>\n",
       "    <tr>\n",
       "      <th>2817</th>\n",
       "      <td>RACE</td>\n",
       "      <td>2016</td>\n",
       "      <td>12</td>\n",
       "      <td>23</td>\n",
       "      <td>57.877</td>\n",
       "      <td>57.946</td>\n",
       "      <td>57.590</td>\n",
       "      <td>57.768</td>\n",
       "      <td>342461</td>\n",
       "      <td>65.0</td>\n",
       "      <td>7.0</td>\n",
       "      <td>28.0</td>\n",
       "      <td>137.0</td>\n",
       "    </tr>\n",
       "    <tr>\n",
       "      <th>2818</th>\n",
       "      <td>RACE</td>\n",
       "      <td>2016</td>\n",
       "      <td>12</td>\n",
       "      <td>27</td>\n",
       "      <td>57.847</td>\n",
       "      <td>57.976</td>\n",
       "      <td>57.619</td>\n",
       "      <td>57.728</td>\n",
       "      <td>131968</td>\n",
       "      <td>65.0</td>\n",
       "      <td>7.0</td>\n",
       "      <td>28.0</td>\n",
       "      <td>137.0</td>\n",
       "    </tr>\n",
       "    <tr>\n",
       "      <th>2819</th>\n",
       "      <td>RACE</td>\n",
       "      <td>2016</td>\n",
       "      <td>12</td>\n",
       "      <td>28</td>\n",
       "      <td>57.590</td>\n",
       "      <td>57.709</td>\n",
       "      <td>57.134</td>\n",
       "      <td>57.194</td>\n",
       "      <td>175311</td>\n",
       "      <td>65.0</td>\n",
       "      <td>7.0</td>\n",
       "      <td>28.0</td>\n",
       "      <td>137.0</td>\n",
       "    </tr>\n",
       "    <tr>\n",
       "      <th>2820</th>\n",
       "      <td>RACE</td>\n",
       "      <td>2016</td>\n",
       "      <td>12</td>\n",
       "      <td>29</td>\n",
       "      <td>57.600</td>\n",
       "      <td>57.728</td>\n",
       "      <td>57.075</td>\n",
       "      <td>57.233</td>\n",
       "      <td>192467</td>\n",
       "      <td>65.0</td>\n",
       "      <td>7.0</td>\n",
       "      <td>28.0</td>\n",
       "      <td>137.0</td>\n",
       "    </tr>\n",
       "    <tr>\n",
       "      <th>2821</th>\n",
       "      <td>RACE</td>\n",
       "      <td>2016</td>\n",
       "      <td>12</td>\n",
       "      <td>30</td>\n",
       "      <td>57.877</td>\n",
       "      <td>57.897</td>\n",
       "      <td>57.397</td>\n",
       "      <td>57.580</td>\n",
       "      <td>306753</td>\n",
       "      <td>65.0</td>\n",
       "      <td>7.0</td>\n",
       "      <td>28.0</td>\n",
       "      <td>137.0</td>\n",
       "    </tr>\n",
       "  </tbody>\n",
       "</table>\n",
       "<p>2822 rows × 13 columns</p>\n",
       "</div>"
      ],
      "text/plain": [
       "     Symbol  Year  Month  Day     Open     High      Low    Close  Volume  \\\n",
       "0        TM  2015      1    2  119.620  120.010  118.340  119.080  263779   \n",
       "1        TM  2015      1    5  117.930  118.090  116.600  116.910  253842   \n",
       "2        TM  2015      1    6  116.940  117.250  114.870  115.710  301389   \n",
       "3        TM  2015      1    7  118.940  119.470  118.510  118.620  407050   \n",
       "4        TM  2015      1    8  119.820  121.020  119.820  120.900  526309   \n",
       "...     ...   ...    ...  ...      ...      ...      ...      ...     ...   \n",
       "2817   RACE  2016     12   23   57.877   57.946   57.590   57.768  342461   \n",
       "2818   RACE  2016     12   27   57.847   57.976   57.619   57.728  131968   \n",
       "2819   RACE  2016     12   28   57.590   57.709   57.134   57.194  175311   \n",
       "2820   RACE  2016     12   29   57.600   57.728   57.075   57.233  192467   \n",
       "2821   RACE  2016     12   30   57.877   57.897   57.397   57.580  306753   \n",
       "\n",
       "      Good_TTB  Uncertain_TTB  Bad_TTB  Relative  \n",
       "0         74.0            3.0     23.0     151.0  \n",
       "1         74.0            3.0     23.0     151.0  \n",
       "2         74.0            3.0     23.0     151.0  \n",
       "3         74.0            3.0     23.0     151.0  \n",
       "4         74.0            3.0     23.0     151.0  \n",
       "...        ...            ...      ...       ...  \n",
       "2817      65.0            7.0     28.0     137.0  \n",
       "2818      65.0            7.0     28.0     137.0  \n",
       "2819      65.0            7.0     28.0     137.0  \n",
       "2820      65.0            7.0     28.0     137.0  \n",
       "2821      65.0            7.0     28.0     137.0  \n",
       "\n",
       "[2822 rows x 13 columns]"
      ]
     },
     "execution_count": 35,
     "metadata": {},
     "output_type": "execute_result"
    }
   ],
   "source": [
    "data = data.loc[(data['Year'] == 2015) | (data['Year'] == 2016)]\n",
    "data = data.reset_index().drop(columns=['index'])\n",
    "data"
   ]
  },
  {
   "cell_type": "code",
   "execution_count": 31,
   "metadata": {},
   "outputs": [],
   "source": [
    "tm = data[data['Symbol'] == 'TM']\n",
    "ttm = data[data['Symbol'] == 'TTM']\n",
    "hmc = data[data['Symbol'] == 'HMC']\n",
    "gm = data[data['Symbol'] == 'GM']\n",
    "f = data[data['Symbol'] == 'F']\n",
    "race = data[data['Symbol'] == 'RACE']"
   ]
  },
  {
   "cell_type": "markdown",
   "metadata": {},
   "source": [
    "# Ford (F)"
   ]
  },
  {
   "cell_type": "code",
   "execution_count": 5,
   "metadata": {},
   "outputs": [],
   "source": [
    "fX = []\n",
    "fY = []\n",
    "for index, row in data.iterrows():\n",
    "    ifX = []\n",
    "    ifX.append(row['Close'])\n",
    "    ifX.append(row['Volume'])\n",
    "    fX.append(ifX)\n",
    "    fY.append(row['Relative'])"
   ]
  },
  {
   "cell_type": "code",
   "execution_count": 18,
   "metadata": {},
   "outputs": [],
   "source": [
    "from sklearn.datasets import make_blobs as mb\n",
    "fX, fY = mb(n_samples=len(fX), centers=15, cluster_std=0.7, random_state=0)"
   ]
  },
  {
   "cell_type": "code",
   "execution_count": 19,
   "metadata": {},
   "outputs": [
    {
     "data": {
      "image/png": "[encoded data removed]",
      "text/plain": [
       "<Figure size 432x288 with 1 Axes>"
      ]
     },
     "metadata": {
      "needs_background": "light"
     },
     "output_type": "display_data"
    }
   ],
   "source": [
    "plt.scatter(fX[:, 0], fX[:, 1])\n",
    "plt.show()"
   ]
  },
  {
   "cell_type": "code",
   "execution_count": 20,
   "metadata": {},
   "outputs": [],
   "source": [
    "from sklearn.cluster import KMeans\n",
    "kmeans = KMeans(n_clusters=15, random_state=42)\n",
    "\n",
    "# Fit the model to the data\n",
    "kmeans.fit(fX)\n",
    "\n",
    "# Use the data to predict the clusters\n",
    "# save the predictions as `predicted_clusters`\n",
    "predicted_clusters = kmeans.predict(fX)"
   ]
  },
  {
   "cell_type": "code",
   "execution_count": 21,
   "metadata": {},
   "outputs": [
    {
     "data": {
      "image/png": "[encoded data removed]",
      "text/plain": [
       "<Figure size 432x288 with 1 Axes>"
      ]
     },
     "metadata": {
      "needs_background": "light"
     },
     "output_type": "display_data"
    }
   ],
   "source": [
    "plt.scatter(fX[:, 0], fX[:, 1], c=predicted_clusters, s=50, cmap='viridis')\n",
    "plt.show()"
   ]
  },
  {
   "cell_type": "code",
   "execution_count": 22,
   "metadata": {},
   "outputs": [],
   "source": [
    "centers = kmeans.cluster_centers_\n",
    "labels = kmeans.labels_"
   ]
  },
  {
   "cell_type": "code",
   "execution_count": 17,
   "metadata": {},
   "outputs": [
    {
     "data": {
      "image/png": "[encoded data removed]",
      "text/plain": [
       "<Figure size 432x288 with 1 Axes>"
      ]
     },
     "metadata": {
      "needs_background": "light"
     },
     "output_type": "display_data"
    }
   ],
   "source": [
    "plt.scatter(fX[:, 0], fX[:, 1], c=labels, s=50, cmap='viridis')\n",
    "plt.scatter(centers[:, 0], centers[:, 1], c='black', s=200, alpha=0.5)\n",
    "\n",
    "plt.show()"
   ]
  },
  {
   "cell_type": "code",
   "execution_count": null,
   "metadata": {},
   "outputs": [],
   "source": []
  },
  {
   "cell_type": "code",
   "execution_count": null,
   "metadata": {},
   "outputs": [],
   "source": []
  }
 ],
 "metadata": {
  "kernelspec": {
   "display_name": "Python 3",
   "language": "python",
   "name": "python3"
  },
  "language_info": {
   "codemirror_mode": {
    "name": "ipython",
    "version": 3
   },
   "file_extension": ".py",
   "mimetype": "text/x-python",
   "name": "python",
   "nbconvert_exporter": "python",
   "pygments_lexer": "ipython3",
   "version": "3.8.5"
  }
 },
 "nbformat": 4,
 "nbformat_minor": 5
}
